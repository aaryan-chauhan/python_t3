{
 "cells": [
  {
   "cell_type": "markdown",
   "metadata": {},
   "source": [
    "# Chapter 8: OOP's and Exception Handling\n",
    "1. the indentation and syntex error cant be handled"
   ]
  },
  {
   "cell_type": "code",
   "execution_count": null,
   "metadata": {},
   "outputs": [],
   "source": [
    "a=input(\"ENter\""
   ]
  },
  {
   "cell_type": "code",
   "execution_count": null,
   "metadata": {},
   "outputs": [],
   "source": [
    "print(b)"
   ]
  },
  {
   "cell_type": "code",
   "execution_count": null,
   "metadata": {},
   "outputs": [],
   "source": [
    "a=2\n",
    "b='32'\n",
    "print(a+b)"
   ]
  },
  {
   "cell_type": "code",
   "execution_count": null,
   "metadata": {},
   "outputs": [],
   "source": [
    "int('a')"
   ]
  },
  {
   "cell_type": "code",
   "execution_count": null,
   "metadata": {},
   "outputs": [],
   "source": [
    "if True:\n",
    "print(True)"
   ]
  },
  {
   "cell_type": "code",
   "execution_count": null,
   "metadata": {},
   "outputs": [],
   "source": [
    "l=[1,2,3]\n",
    "print(l[10])"
   ]
  },
  {
   "cell_type": "code",
   "execution_count": null,
   "metadata": {},
   "outputs": [],
   "source": [
    "l=['a','b','c']\n",
    "l.upper()"
   ]
  },
  {
   "cell_type": "code",
   "execution_count": null,
   "metadata": {},
   "outputs": [],
   "source": [
    "d={'a':1}\n",
    "\n",
    "print(d[0])"
   ]
  },
  {
   "cell_type": "code",
   "execution_count": null,
   "metadata": {},
   "outputs": [],
   "source": [
    "import aaryan"
   ]
  },
  {
   "cell_type": "code",
   "execution_count": null,
   "metadata": {},
   "outputs": [],
   "source": [
    "a=5/0"
   ]
  },
  {
   "cell_type": "code",
   "execution_count": null,
   "metadata": {},
   "outputs": [],
   "source": [
    "import math\n",
    "math.exp(1000)"
   ]
  },
  {
   "cell_type": "code",
   "execution_count": null,
   "metadata": {},
   "outputs": [],
   "source": [
    "try:\n",
    "    a=int(input())    \n",
    "    b=int(input())\n",
    "    c=a/b\n",
    "except (ZeroDivisionError) as e:\n",
    "    c=(a/5)\n",
    "    print(\"error\",e,'but i have handled it don\\'t worry')\n",
    "    print(c)\n",
    "except (ValueError) as e:\n",
    "    print(\"Wrong input\")\n",
    "except Exception as e:\n",
    "    print(e)\n",
    "finally:\n",
    "    print('Finally')"
   ]
  },
  {
   "cell_type": "code",
   "execution_count": null,
   "metadata": {},
   "outputs": [],
   "source": [
    "try:\n",
    "    a=input()\n",
    "    b=input()\n",
    "    if a<b:\n",
    "        raise Exception(\"wrong value\")\n",
    "except Exception as e:\n",
    "    print(e)"
   ]
  },
  {
   "cell_type": "code",
   "execution_count": null,
   "metadata": {},
   "outputs": [],
   "source": [
    "d={'user':'1234'}\n",
    "acc=5000\n",
    "def credit(acc):\n",
    "    amt=int(input(\"Enter amount you wanna credit: \"))\n",
    "    acc+=amt\n",
    "    print(amt,\"Rs Credited to your account Sucessfully!\")\n",
    "    print(\"Current balance is: \",acc)\n",
    "def debit(acc):\n",
    "    amt=int(input(\"Enter amount you wanna credit: \"))\n",
    "    try:\n",
    "        if (acc-amt>=1000):\n",
    "            acc-=amt    \n",
    "        else:\n",
    "            raise Exception(amt,\"Rs can't be debited from your account\")\n",
    "            print(\"Current balance is: \",acc)\n",
    "    except Exception as e:\n",
    "        print(e)\n",
    "    else:\n",
    "        print(amt,\"Rs debited from your account Sucessfully!\")\n",
    "        print(\"Current balance is: \",acc)\n",
    "def cd(acc):\n",
    "    while(True):\n",
    "        ch=(input(\"credit(1) or debit(2) or end to end\"))\n",
    "        if ch=='1':\n",
    "            credit(acc)\n",
    "        elif ch=='2':\n",
    "            debit(acc)\n",
    "        elif ch==\"end\":\n",
    "            break\n",
    "        else:\n",
    "            continue\n",
    "c=int(input(\"1 for SignUp or 2 for LogIn: \"))\n",
    "if(c==1):\n",
    "    try:\n",
    "        u=input(\"Enter your Username: \")\n",
    "        p=input(\"Enter your Password: \")\n",
    "        cp=input(\"Confirm Password   : \")\n",
    "        if(p!=cp):\n",
    "            raise Exception(\"Wrong Password\")\n",
    "        else:\n",
    "            d[u]=p\n",
    "    except Exception as e:\n",
    "        print(e)\n",
    "    else:\n",
    "        print(\"Signup Sucessful!\")\n",
    "        cd(acc)\n",
    "elif(c==2):\n",
    "    try:\n",
    "        u1=input(\"Enter your Username: \")\n",
    "        p1=input(\"Enter your Password: \")\n",
    "        if((u1 in d)and(d[u1]==p1)):\n",
    "            pass\n",
    "        else:\n",
    "            raise Exception(\"Username and pass not correct\")\n",
    "    except Exception as e:\n",
    "        print(e)\n",
    "    else:\n",
    "        print(\"Login Sucessful!\")\n",
    "        cd(acc)\n",
    "    "
   ]
  },
  {
   "cell_type": "markdown",
   "metadata": {},
   "source": [
    "## encapsulation OOP's"
   ]
  },
  {
   "cell_type": "code",
   "execution_count": 9,
   "metadata": {},
   "outputs": [
    {
     "name": "stdout",
     "output_type": "stream",
     "text": [
      "10 20\n",
      "100 200\n",
      "10\n"
     ]
    }
   ],
   "source": [
    "class A():\n",
    "    def __init__(self,a,b):\n",
    "        self.x=a\n",
    "        self.y=b\n",
    "    def display(self):\n",
    "        print(self.x,self.y)\n",
    "o=A(10,20)\n",
    "o2=A(100,200)\n",
    "o.display()\n",
    "o2.display()\n",
    "\n",
    "print(o.x)"
   ]
  },
  {
   "cell_type": "code",
   "execution_count": 21,
   "metadata": {},
   "outputs": [
    {
     "name": "stdout",
     "output_type": "stream",
     "text": [
      "limbs: 8\n",
      "legs of monkey: 2\n",
      "legs of octopus: 0\n",
      "total animals: 3\n"
     ]
    }
   ],
   "source": [
    "class animal:\n",
    "    count=0\n",
    "    def __init__(self,a,l):\n",
    "        self.arms=a\n",
    "        self.legs=l\n",
    "        animal.count+=1\n",
    "    def limbs(self):\n",
    "        return (self.arms+self.legs)\n",
    "spider = animal(4,4)\n",
    "spidlimbs=spider.limbs()\n",
    "print(\"limbs:\",spidlimbs)\n",
    "monkey=animal(2,2)\n",
    "octopus=animal(8,0)\n",
    "print(\"legs of monkey:\",monkey.legs)\n",
    "print(\"legs of octopus:\",octopus.legs)\n",
    "print(\"total animals:\",animal.count)"
   ]
  },
  {
   "cell_type": "code",
   "execution_count": 51,
   "metadata": {},
   "outputs": [
    {
     "name": "stdout",
     "output_type": "stream",
     "text": [
      "['apple', 'banana', 'find', 'dictionary', 'set', 'tuple', 'list', 'malayalam', 'nayan', 'grind', 'apricot']\n",
      "['apple', 'tuple', 'nayan', 'grind']\n",
      "['apple', 'apricot']\n",
      "['find', 'grind']\n",
      "['malayalam', 'nayan']\n",
      "['banana']\n",
      "['set', 'tuple', 'list']\n"
     ]
    }
   ],
   "source": [
    "a=open('words.txt','r+')\n",
    "data=a.read().split()\n",
    "class wordplay:\n",
    "    def __init__(self,l):\n",
    "        self.l=l\n",
    "    def words_with_length(self,length):\n",
    "        return [i for i in self.l if len(i)==length]\n",
    "    def starts_with(self,char1):\n",
    "        return [i for i in self.l if(i[0]==char1)]\n",
    "    def ends_with(self,char1):\n",
    "        return [i for i in self.l if(i[-1]==char1)]\n",
    "    def palindromes (self):\n",
    "        return [i for i in self.l if(i==i[::-1])]\n",
    "    def only (self,st):\n",
    "        ans=[]\n",
    "        s1=set(st)\n",
    "        for word in self.l:\n",
    "            s2=set(word)\n",
    "            if s1==s2:\n",
    "                ans.append(word)\n",
    "        return ans\n",
    "    def avoid(self,st):\n",
    "        ans=[]\n",
    "        for word in self.l:\n",
    "            f=True\n",
    "            for i in st:\n",
    "                if i in word:\n",
    "                    f=False\n",
    "                    break\n",
    "            if f:\n",
    "                    ans.append(word)\n",
    "        return ans\n",
    "ob=wordplay(data)\n",
    "print(ob.l)\n",
    "print(ob.words_with_length(5))\n",
    "print(ob.starts_with('a'))\n",
    "print(ob.ends_with('d'))\n",
    "print(ob.palindromes())\n",
    "print(ob.only('bna'))\n",
    "print(ob.avoid('amkd'))"
   ]
  },
  {
   "cell_type": "code",
   "execution_count": null,
   "metadata": {},
   "outputs": [],
   "source": []
  }
 ],
 "metadata": {
  "kernelspec": {
   "display_name": "Python 3",
   "language": "python",
   "name": "python3"
  },
  "language_info": {
   "codemirror_mode": {
    "name": "ipython",
    "version": 3
   },
   "file_extension": ".py",
   "mimetype": "text/x-python",
   "name": "python",
   "nbconvert_exporter": "python",
   "pygments_lexer": "ipython3",
   "version": "3.8.5"
  }
 },
 "nbformat": 4,
 "nbformat_minor": 4
}
