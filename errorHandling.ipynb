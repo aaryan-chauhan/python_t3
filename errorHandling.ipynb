{
 "cells": [
  {
   "cell_type": "markdown",
   "metadata": {},
   "source": [
    "# Chapter 8: Exception Handling\n",
    "1. the indentation and syntex error cant be handled"
   ]
  },
  {
   "cell_type": "code",
   "execution_count": null,
   "metadata": {},
   "outputs": [],
   "source": [
    "a=input(\"ENter\""
   ]
  },
  {
   "cell_type": "code",
   "execution_count": null,
   "metadata": {},
   "outputs": [],
   "source": [
    "print(b)"
   ]
  },
  {
   "cell_type": "code",
   "execution_count": null,
   "metadata": {},
   "outputs": [],
   "source": [
    "a=2\n",
    "b='32'\n",
    "print(a+b)"
   ]
  },
  {
   "cell_type": "code",
   "execution_count": null,
   "metadata": {},
   "outputs": [],
   "source": [
    "int('a')"
   ]
  },
  {
   "cell_type": "code",
   "execution_count": null,
   "metadata": {},
   "outputs": [],
   "source": [
    "if True:\n",
    "print(True)"
   ]
  },
  {
   "cell_type": "code",
   "execution_count": null,
   "metadata": {},
   "outputs": [],
   "source": [
    "l=[1,2,3]\n",
    "print(l[10])"
   ]
  },
  {
   "cell_type": "code",
   "execution_count": null,
   "metadata": {},
   "outputs": [],
   "source": [
    "l=['a','b','c']\n",
    "l.upper()"
   ]
  },
  {
   "cell_type": "code",
   "execution_count": null,
   "metadata": {},
   "outputs": [],
   "source": [
    "d={'a':1}\n",
    "\n",
    "print(d[0])"
   ]
  },
  {
   "cell_type": "code",
   "execution_count": null,
   "metadata": {},
   "outputs": [],
   "source": [
    "import aaryan"
   ]
  },
  {
   "cell_type": "code",
   "execution_count": null,
   "metadata": {},
   "outputs": [],
   "source": [
    "a=5/0"
   ]
  },
  {
   "cell_type": "code",
   "execution_count": null,
   "metadata": {},
   "outputs": [],
   "source": [
    "import math\n",
    "math.exp(1000)"
   ]
  },
  {
   "cell_type": "code",
   "execution_count": null,
   "metadata": {},
   "outputs": [],
   "source": [
    "try:\n",
    "    a=int(input())    \n",
    "    b=int(input())\n",
    "    c=a/b\n",
    "except (ZeroDivisionError) as e:\n",
    "    c=(a/5)\n",
    "    print(\"error\",e,'but i have handled it don\\'t worry')\n",
    "    print(c)\n",
    "except (ValueError) as e:\n",
    "    print(\"Wrong input\")\n",
    "except Exception as e:\n",
    "    print(e)\n",
    "finally:\n",
    "    print('Finally')"
   ]
  },
  {
   "cell_type": "code",
   "execution_count": null,
   "metadata": {},
   "outputs": [],
   "source": [
    "try:\n",
    "    a=input()\n",
    "    b=input()\n",
    "    if a<b:\n",
    "        raise Exception(\"wrong value\")\n",
    "except Exception as e:\n",
    "    print(e)"
   ]
  },
  {
   "cell_type": "code",
   "execution_count": null,
   "metadata": {},
   "outputs": [
    {
     "name": "stdout",
     "output_type": "stream",
     "text": [
      "1 for SignUp or 2 for LogIn: 2\n",
      "Enter your Username: user\n",
      "Enter your Password: 1234\n",
      "Login Sucessful!\n",
      "credit(1) or debit(2) or end to end2\n",
      "Enter amount you wanna credit: 6000\n",
      "(6000, \"Rs can't be debited from your account\")\n"
     ]
    }
   ],
   "source": [
    "d={'user':'1234'}\n",
    "acc=5000\n",
    "def credit(acc):\n",
    "    amt=int(input(\"Enter amount you wanna credit: \"))\n",
    "    acc+=amt\n",
    "    print(amt,\"Rs Credited to your account Sucessfully!\")\n",
    "    print(\"Current balance is: \",acc)\n",
    "def debit(acc):\n",
    "    amt=int(input(\"Enter amount you wanna credit: \"))\n",
    "    try:\n",
    "        if (acc-amt>=1000):\n",
    "            acc-=amt    \n",
    "        else:\n",
    "            raise Exception(amt,\"Rs can't be debited from your account\")\n",
    "            print(\"Current balance is: \",acc)\n",
    "    except Exception as e:\n",
    "        print(e)\n",
    "    else:\n",
    "        print(amt,\"Rs debited from your account Sucessfully!\")\n",
    "        print(\"Current balance is: \",acc)\n",
    "def cd(acc):\n",
    "    while(True):\n",
    "        ch=(input(\"credit(1) or debit(2) or end to end\"))\n",
    "        if ch=='1':\n",
    "            credit(acc)\n",
    "        elif ch=='2':\n",
    "            debit(acc)\n",
    "        elif ch==\"end\":\n",
    "            break\n",
    "        else:\n",
    "            continue\n",
    "c=int(input(\"1 for SignUp or 2 for LogIn: \"))\n",
    "if(c==1):\n",
    "    try:\n",
    "        u=input(\"Enter your Username: \")\n",
    "        p=input(\"Enter your Password: \")\n",
    "        cp=input(\"Confirm Password   : \")\n",
    "        if(p!=cp):\n",
    "            raise Exception(\"Wrong Password\")\n",
    "        else:\n",
    "            d[u]=p\n",
    "    except Exception as e:\n",
    "        print(e)\n",
    "    else:\n",
    "        print(\"Signup Sucessful!\")\n",
    "        cd(acc)\n",
    "elif(c==2):\n",
    "    try:\n",
    "        u1=input(\"Enter your Username: \")\n",
    "        p1=input(\"Enter your Password: \")\n",
    "        if((u1 in d)and(d[u1]==p1)):\n",
    "            pass\n",
    "        else:\n",
    "            raise Exception(\"Username and pass not correct\")\n",
    "    except Exception as e:\n",
    "        print(e)\n",
    "    else:\n",
    "        print(\"Login Sucessful!\")\n",
    "        cd(acc)\n",
    "    "
   ]
  },
  {
   "cell_type": "markdown",
   "metadata": {},
   "source": []
  }
 ],
 "metadata": {
  "kernelspec": {
   "display_name": "Python 3",
   "language": "python",
   "name": "python3"
  },
  "language_info": {
   "codemirror_mode": {
    "name": "ipython",
    "version": 3
   },
   "file_extension": ".py",
   "mimetype": "text/x-python",
   "name": "python",
   "nbconvert_exporter": "python",
   "pygments_lexer": "ipython3",
   "version": "3.8.5"
  }
 },
 "nbformat": 4,
 "nbformat_minor": 4
}
