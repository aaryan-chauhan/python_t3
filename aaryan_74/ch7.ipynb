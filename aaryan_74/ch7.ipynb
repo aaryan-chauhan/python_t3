{
 "cells": [
  {
   "cell_type": "markdown",
   "metadata": {},
   "source": [
    "there are 3 ways to import \n",
    "1. import fileName as something\n",
    "2. import fileName\n",
    "3. from fileName import*"
   ]
  },
  {
   "cell_type": "code",
   "execution_count": null,
   "metadata": {},
   "outputs": [],
   "source": [
    "import demo as d\n",
    "d.mod1(\"aaryan\")\n",
    "print(d.b)"
   ]
  },
  {
   "cell_type": "code",
   "execution_count": null,
   "metadata": {},
   "outputs": [],
   "source": [
    "from demo import*\n",
    "mod1(\"aaryan\")\n",
    "print(b)"
   ]
  },
  {
   "cell_type": "code",
   "execution_count": null,
   "metadata": {},
   "outputs": [],
   "source": [
    "import Q524 as q\n",
    "\n",
    "s=input(\"Enter your String: \")\n",
    "q.fun(s)\n"
   ]
  },
  {
   "cell_type": "code",
   "execution_count": null,
   "metadata": {},
   "outputs": [],
   "source": [
    "import calc as c\n",
    "print(\"addition of 10 and 5 is       : \",c.add(10,5))\n",
    "print(\"sunstraction of 10 and 5 is   : \",c.sub(10,5))\n",
    "print(\"multiplication of 10 and 5 is : \",c.mul(10,5))\n",
    "print(\"division of 10 and 5 is       : \",c.div(10,5))\n",
    "print(\"remainder of 10 from 5 is     : \",c.rem(10,5))"
   ]
  },
  {
   "cell_type": "code",
   "execution_count": 1,
   "metadata": {},
   "outputs": [
    {
     "name": "stdout",
     "output_type": "stream",
     "text": [
      "Enter your string:  thi is pythin prnjdf\n",
      "thi\n"
     ]
    }
   ],
   "source": [
    "import Q527 as q\n",
    "s=input(\"Enter your string: \")\n",
    "print(q.f(s))"
   ]
  },
  {
   "cell_type": "code",
   "execution_count": 7,
   "metadata": {},
   "outputs": [
    {
     "name": "stdout",
     "output_type": "stream",
     "text": [
      "C:\\Users\\LJENG\\Desktop\n",
      "None\n",
      "C:\\Users\\LJENG\\Desktop\n",
      "None\n"
     ]
    }
   ],
   "source": [
    "import os \n",
    "print(os.getcwd())\n",
    "print(os.chdir(r\"C:\\Users\\LJENG\\Desktop\"))\n",
    "print(os.getcwd())\n",
    "print(os.mkdir(\"c3\"))\n"
   ]
  },
  {
   "cell_type": "code",
   "execution_count": null,
   "metadata": {},
   "outputs": [],
   "source": []
  }
 ],
 "metadata": {
  "kernelspec": {
   "display_name": "Python 3",
   "language": "python",
   "name": "python3"
  },
  "language_info": {
   "codemirror_mode": {
    "name": "ipython",
    "version": 3
   },
   "file_extension": ".py",
   "mimetype": "text/x-python",
   "name": "python",
   "nbconvert_exporter": "python",
   "pygments_lexer": "ipython3",
   "version": "3.8.5"
  }
 },
 "nbformat": 4,
 "nbformat_minor": 4
}
