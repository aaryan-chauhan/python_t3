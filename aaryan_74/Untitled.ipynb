{
 "cells": [
  {
   "cell_type": "code",
   "execution_count": null,
   "metadata": {},
   "outputs": [],
   "source": [
    "import mod1\n",
    "import mod2\n",
    "A='python'\n",
    "B='java'\n",
    "print(A)\n",
    "print(mod1.A)\n",
    "print(mod2.A)\n",
    "print(B)\n",
    "print(mod1.B)\n",
    "print(mod2.B)\n",
    "mod1.demo()\n",
    "mod2.demo()"
   ]
  },
  {
   "cell_type": "code",
   "execution_count": 2,
   "metadata": {},
   "outputs": [
    {
     "name": "stdout",
     "output_type": "stream",
     "text": [
      "python\n",
      "java\n",
      "mod2\n"
     ]
    }
   ],
   "source": [
    "from mod1 import *\n",
    "from mod2 import *\n",
    "A='python'\n",
    "B='java'\n",
    "print(A)\n",
    "print(B)\n",
    "demo()"
   ]
  },
  {
   "cell_type": "code",
   "execution_count": null,
   "metadata": {},
   "outputs": [],
   "source": []
  }
 ],
 "metadata": {
  "kernelspec": {
   "display_name": "Python 3",
   "language": "python",
   "name": "python3"
  },
  "language_info": {
   "codemirror_mode": {
    "name": "ipython",
    "version": 3
   },
   "file_extension": ".py",
   "mimetype": "text/x-python",
   "name": "python",
   "nbconvert_exporter": "python",
   "pygments_lexer": "ipython3",
   "version": "3.8.5"
  }
 },
 "nbformat": 4,
 "nbformat_minor": 4
}
