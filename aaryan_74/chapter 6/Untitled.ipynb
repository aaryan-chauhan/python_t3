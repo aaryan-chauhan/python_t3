{
 "cells": [
  {
   "cell_type": "markdown",
   "metadata": {},
   "source": [
    "# Chapter 6: Working With File\n",
    "\n",
    "1. open()\n",
    "2. close()\n",
    "3. write()\n",
    "4. writelines()\n",
    "5. read(size): basic size \n",
    "6. readline(size): if u give size that exceeds the range then it won't give error but print the line itself\n",
    "7. readlines(hint(optional)): if u give size that carries the first letter of new line still it'll take that line in list\n",
    "8. tell(): it gives the pointer location\n",
    "9. seek(index): takes ur pointer to the index"
   ]
  },
  {
   "cell_type": "code",
   "execution_count": 18,
   "metadata": {},
   "outputs": [],
   "source": [
    "fi=open('demo.txt','w')\n",
    "for i in range(5):\n",
    "    fi.write('python ')\n",
    "    fi.write('java\\n')\n",
    "    fi.writelines(['hello\\n','i am aaryan chauhan\\n'])\n",
    "fi.close()\n"
   ]
  },
  {
   "cell_type": "code",
   "execution_count": 17,
   "metadata": {},
   "outputs": [],
   "source": [
    "fi=open('demo.txt','a')\n",
    "for i in range(5):\n",
    "    fi.write('python ')\n",
    "    fi.write('java\\n')\n",
    "    fi.writelines(['hello\\n','i am aaryan chauhan\\n'])\n",
    "fi.close()"
   ]
  },
  {
   "cell_type": "code",
   "execution_count": 23,
   "metadata": {},
   "outputs": [
    {
     "name": "stdout",
     "output_type": "stream",
     "text": [
      "['python java\\n', 'hello\\n', 'i am aaryan chauhan\\n', 'python java\\n', 'hello\\n', 'i am aaryan chauhan\\n', 'python java\\n', 'hello\\n', 'i am aaryan chauhan\\n', 'python java\\n', 'hello\\n', 'i am aaryan chauhan\\n', 'python java\\n', 'hello\\n', 'i am aaryan chauhan\\n']\n"
     ]
    }
   ],
   "source": [
    "fh=open('demo.txt')\n",
    "data=fh.readlines()\n",
    "print(data)\n",
    "fh.close()\n"
   ]
  },
  {
   "cell_type": "code",
   "execution_count": 33,
   "metadata": {},
   "outputs": [
    {
     "name": "stdout",
     "output_type": "stream",
     "text": [
      "5\n"
     ]
    }
   ],
   "source": [
    "#no of lines\n",
    "\n",
    "fr=open('demo.txt')\n",
    "datal=len(fr.readlines())\n",
    "print(datal)\n",
    "fr.close()"
   ]
  },
  {
   "cell_type": "code",
   "execution_count": 34,
   "metadata": {},
   "outputs": [
    {
     "name": "stdout",
     "output_type": "stream",
     "text": [
      "10\n"
     ]
    }
   ],
   "source": [
    "#no of words\n",
    "\n",
    "fr=open('demo.txt')\n",
    "dataw=fr.read().split()\n",
    "print(len(dataw))\n",
    "fr.close()"
   ]
  },
  {
   "cell_type": "code",
   "execution_count": 38,
   "metadata": {},
   "outputs": [],
   "source": [
    "#print whole file in another file with uppercase\n",
    "a=open('caps.txt','w')\n",
    "b=open('demo.txt')\n",
    "str=b.read().upper()\n",
    "a.write(str)\n",
    "a.close()"
   ]
  },
  {
   "cell_type": "code",
   "execution_count": 43,
   "metadata": {},
   "outputs": [
    {
     "name": "stdout",
     "output_type": "stream",
     "text": [
      "Enter your word: '\\n'\n",
      "-1\n"
     ]
    }
   ],
   "source": [
    "#find the index of word letter or anything that the user inputs as string\n",
    "a=open('demo.txt')\n",
    "b=a.read()\n",
    "find=input(\"Enter your word: \")\n",
    "ind=b.find(find)\n",
    "print(ind)"
   ]
  },
  {
   "cell_type": "code",
   "execution_count": 53,
   "metadata": {},
   "outputs": [
    {
     "name": "stdout",
     "output_type": "stream",
     "text": [
      "python \n",
      "j\n"
     ]
    }
   ],
   "source": [
    "fh=open('demo.txt')\n",
    "data=fh.read(9)\n",
    "print(data)\n",
    "fh.close()"
   ]
  },
  {
   "cell_type": "code",
   "execution_count": 58,
   "metadata": {},
   "outputs": [
    {
     "name": "stdout",
     "output_type": "stream",
     "text": [
      "py programme\n",
      "have a good day\n",
      "goodbye world\n"
     ]
    }
   ],
   "source": [
    "fh=open('demo.txt')\n",
    "fh.readlines(9)\n",
    "data=fh.read()\n",
    "print(data)\n",
    "fh.close()"
   ]
  },
  {
   "cell_type": "code",
   "execution_count": 63,
   "metadata": {},
   "outputs": [
    {
     "name": "stdout",
     "output_type": "stream",
     "text": [
      "0\n",
      "6\n",
      " \n",
      "\n"
     ]
    }
   ],
   "source": [
    "fh=open('demo.txt')\n",
    "print(fh.tell())\n",
    "d=fh.read(6)\n",
    "print(fh.tell())\n",
    "l=fh.readline()\n",
    "print(l)\n",
    "fh.close()"
   ]
  },
  {
   "cell_type": "code",
   "execution_count": 70,
   "metadata": {},
   "outputs": [
    {
     "name": "stdout",
     "output_type": "stream",
     "text": [
      "Enter counter: wdf\n"
     ]
    },
    {
     "ename": "ValueError",
     "evalue": "invalid literal for int() with base 10: 'wdf'",
     "output_type": "error",
     "traceback": [
      "\u001b[1;31m---------------------------------------------------------------------------\u001b[0m",
      "\u001b[1;31mValueError\u001b[0m                                Traceback (most recent call last)",
      "\u001b[1;32m<ipython-input-70-ec70cceea018>\u001b[0m in \u001b[0;36m<module>\u001b[1;34m\u001b[0m\n\u001b[1;32m----> 1\u001b[1;33m \u001b[0mnum\u001b[0m\u001b[1;33m=\u001b[0m\u001b[0mint\u001b[0m\u001b[1;33m(\u001b[0m\u001b[0minput\u001b[0m\u001b[1;33m(\u001b[0m\u001b[1;34m\"Enter counter: \"\u001b[0m\u001b[1;33m)\u001b[0m\u001b[1;33m)\u001b[0m\u001b[1;33m\u001b[0m\u001b[1;33m\u001b[0m\u001b[0m\n\u001b[0m\u001b[0;32m      2\u001b[0m \u001b[0ma\u001b[0m\u001b[1;33m=\u001b[0m\u001b[0mopen\u001b[0m\u001b[1;33m(\u001b[0m\u001b[1;34m'cust.txt'\u001b[0m\u001b[1;33m,\u001b[0m\u001b[1;34m'w'\u001b[0m\u001b[1;33m)\u001b[0m\u001b[1;33m\u001b[0m\u001b[1;33m\u001b[0m\u001b[0m\n\u001b[0;32m      3\u001b[0m \u001b[1;33m\u001b[0m\u001b[0m\n\u001b[0;32m      4\u001b[0m \u001b[1;32mfor\u001b[0m \u001b[0mi\u001b[0m \u001b[1;32min\u001b[0m \u001b[0mrange\u001b[0m\u001b[1;33m(\u001b[0m\u001b[0mnum\u001b[0m\u001b[1;33m)\u001b[0m\u001b[1;33m:\u001b[0m\u001b[1;33m\u001b[0m\u001b[1;33m\u001b[0m\u001b[0m\n\u001b[0;32m      5\u001b[0m     \u001b[0mname\u001b[0m\u001b[1;33m=\u001b[0m\u001b[0minput\u001b[0m\u001b[1;33m(\u001b[0m\u001b[1;34mf\"Enter {i}th name: \"\u001b[0m\u001b[1;33m)\u001b[0m\u001b[1;33m\u001b[0m\u001b[1;33m\u001b[0m\u001b[0m\n",
      "\u001b[1;31mValueError\u001b[0m: invalid literal for int() with base 10: 'wdf'"
     ]
    }
   ],
   "source": [
    "num=int(input(\"Enter counter: \"))\n",
    "a=open('cust.txt','w')\n",
    "\n",
    "for i in range(num):\n",
    "    name=input(f\"Enter {i}th name: \")\n",
    "    ph=input(f\"Enter {i}th number: \")\n",
    "    a.write(name+\":\"+ph+\"\\n\")    \n",
    "    \n",
    "a.close()\n",
    "b=open('cust.txt').read()\n",
    "print(b)\n"
   ]
  },
  {
   "cell_type": "code",
   "execution_count": 86,
   "metadata": {},
   "outputs": [
    {
     "name": "stdout",
     "output_type": "stream",
     "text": [
      "['ram:234\\n', 'shyam:12434\\n', 'jiya:242345\\n']\n",
      "ram\n",
      "shyam\n",
      "jiya\n"
     ]
    }
   ],
   "source": [
    "b=open('cust.txt').readlines()\n",
    "c=[]*(len(b)+1)\n",
    "for i in range(len(b)):\n",
    "    d=b[i].split(\":\")\n",
    "    print(d[0])\n"
   ]
  },
  {
   "cell_type": "code",
   "execution_count": null,
   "metadata": {},
   "outputs": [],
   "source": []
  }
 ],
 "metadata": {
  "kernelspec": {
   "display_name": "Python 3",
   "language": "python",
   "name": "python3"
  },
  "language_info": {
   "codemirror_mode": {
    "name": "ipython",
    "version": 3
   },
   "file_extension": ".py",
   "mimetype": "text/x-python",
   "name": "python",
   "nbconvert_exporter": "python",
   "pygments_lexer": "ipython3",
   "version": "3.8.5"
  }
 },
 "nbformat": 4,
 "nbformat_minor": 4
}
